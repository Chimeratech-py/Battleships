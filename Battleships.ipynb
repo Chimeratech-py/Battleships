{
 "cells": [
  {
   "cell_type": "code",
   "execution_count": 105,
   "id": "49f232b8-8a04-48bd-9a29-6a36c9d24878",
   "metadata": {},
   "outputs": [],
   "source": [
    "#simple_rules\n",
    "#2 ships: 1 3x1 ship and 1 4x1 ship\n",
    "#first to destroy both wins\n",
    "from random import choice\n",
    "\n",
    "def setup_board_player1(width,height):\n",
    "    initial_list = []\n",
    "\n",
    "    #4x1 ship\n",
    "    is_4x1_vertical = bool(random.getrandbits(1))\n",
    "    four_by_1_exceptions = [12,13,14,17,18,19,22,23,24]\n",
    "    four_by_1_starting_int = choice([number for number in range(0,21) if number not in four_by_1_exceptions])\n",
    "\n",
    "    #3x1 ship\n",
    "    three_by_1_exceptions = [18,19,23,24]\n",
    "    three_by_1_starting_int = 0\n",
    "    x = 0\n",
    "    y = 0\n",
    "    for y in range(height):\n",
    "        row = []\n",
    "        for x in range(width):\n",
    "            row.append(0)\n",
    "        initial_list.append(row)\n",
    "\n",
    "    #matching 5x5 grid with its whole number equivalent\n",
    "        \n",
    "\n",
    "    #creating 4x1 ship\n",
    "    if four_by_1_starting_int <= 4:\n",
    "        initial_list[0][four_by_1_starting_int] = 'x'\n",
    "        if is_4x1_vertical == True:\n",
    "            \n",
    "    \n",
    "    \n",
    "    return initial_list\n"
   ]
  },
  {
   "cell_type": "code",
   "execution_count": 107,
   "id": "90682096-a55c-4a32-824d-cb3ad5bc1d75",
   "metadata": {},
   "outputs": [
    {
     "data": {
      "text/plain": [
       "[[0, 0, 0, 0, 0],\n",
       " [0, 0, 0, 0, 0],\n",
       " [0, 0, 0, 0, 0],\n",
       " [0, 0, 0, 0, 0],\n",
       " [0, 0, 0, 0, 0]]"
      ]
     },
     "execution_count": 107,
     "metadata": {},
     "output_type": "execute_result"
    }
   ],
   "source": [
    "setup_board_player1(5,5)"
   ]
  },
  {
   "cell_type": "code",
   "execution_count": 17,
   "id": "0ac15307-aeed-49c1-bb49-884e5495878d",
   "metadata": {},
   "outputs": [],
   "source": [
    "def setup_board_player1(width,height):\n",
    "    initial_list = []\n",
    "    x = 0\n",
    "    y = 0\n",
    "    while y<height:\n",
    "        row = []\n",
    "        while x<width:\n",
    "            row.append(0)\n",
    "            initial_list.append(row)\n",
    "            x+=1\n",
    "        y+=1\n",
    "        \n",
    "\n",
    "    return initial_list"
   ]
  },
  {
   "cell_type": "code",
   "execution_count": 19,
   "id": "2a16d869-c333-4288-a26c-e447a2a05fb5",
   "metadata": {},
   "outputs": [
    {
     "data": {
      "text/plain": [
       "[[0, 0, 0, 0, 0],\n",
       " [0, 0, 0, 0, 0],\n",
       " [0, 0, 0, 0, 0],\n",
       " [0, 0, 0, 0, 0],\n",
       " [0, 0, 0, 0, 0]]"
      ]
     },
     "execution_count": 19,
     "metadata": {},
     "output_type": "execute_result"
    }
   ],
   "source": [
    "setup_board_player2(5,5)"
   ]
  },
  {
   "cell_type": "code",
   "execution_count": 25,
   "id": "ea773e1a-7492-4ef9-9c24-5b1c7d5ef2bf",
   "metadata": {},
   "outputs": [
    {
     "data": {
      "text/plain": [
       "15"
      ]
     },
     "execution_count": 25,
     "metadata": {},
     "output_type": "execute_result"
    }
   ],
   "source": [
    "four_by_1_exceptions = [12,13,14,17,18,19,22,23,24]\n",
    "four_by_1_starting_int = choice([number for number in range(0,21) if number not in four_by_1_exceptions])\n",
    "\n",
    "four_by_1_starting_int"
   ]
  },
  {
   "cell_type": "code",
   "execution_count": 50,
   "id": "c8fcad12-4f8b-4746-8369-5741e2759eb9",
   "metadata": {},
   "outputs": [],
   "source": [
    "#simple_rules\n",
    "#2 ships: 1 3x1 ship and 1 4x1 ship\n",
    "#first to destroy both wins\n",
    "import random\n",
    "\n",
    "def setup_board_player1(sides):\n",
    "    initial_list = []\n",
    "\n",
    "    #4x1 ship\n",
    "    is_4x1_vertical = bool(random.getrandbits(1))\n",
    "    four_by_1_exceptions = [12,13,14,17,18,19,22,23,24]\n",
    "    four_by_1_starting_int = choice([number for number in range(0,21) if number not in four_by_1_exceptions])\n",
    "\n",
    "    #3x1 ship\n",
    "    three_by_1_exceptions = [18,19,23,24]\n",
    "    three_by_1_starting_int = 0\n",
    "    x = 0\n",
    "    y = 0\n",
    "    for y in range(sides):\n",
    "        row = []\n",
    "        for x in range(sides):\n",
    "            row.append(0)\n",
    "        initial_list.append(row)\n",
    "\n",
    "    #matching 5x5 grid with its whole number equivalent\n",
    "    first_digit = four_by_1_starting_int//sides\n",
    "    second_digit = four_by_1_starting_int%sides\n",
    "\n",
    "    \n",
    "    #creating 4x1 ship\n",
    "    if four_by_1_starting_int <= 4:\n",
    "        initial_list[0][four_by_1_starting_int] = 'x'\n",
    "    else:\n",
    "        initial_list[first_digit][second_digit] = 'x'\n",
    "    temp_tail = four_by_1_starting_int\n",
    "    if is_4x1_vertical == True:\n",
    "        for tail in range(3):\n",
    "            temp_tail += sides\n",
    "            temp_first_digit = temp_tail//sides\n",
    "            temp_second_digit = temp_tail%sides\n",
    "            initial_list[temp_first_digit][temp_second_digit] = 'x'\n",
    "    else:\n",
    "        for tail in range(3):\n",
    "            temp_tail += 1\n",
    "            temp_first_digit = temp_tail//sides\n",
    "            temp_second_digit = temp_tail%sides\n",
    "            initial_list[temp_first_digit][temp_second_digit] = 'x'\n",
    "\n",
    "    print(is_4x1_vertical)\n",
    "    print(four_by_1_starting_int)\n",
    "    \n",
    "    return initial_list\n"
   ]
  },
  {
   "cell_type": "code",
   "execution_count": 52,
   "id": "48f26320-979b-4228-9c87-8aa66ccf72df",
   "metadata": {},
   "outputs": [
    {
     "ename": "IndexError",
     "evalue": "list index out of range",
     "output_type": "error",
     "traceback": [
      "\u001b[1;31m---------------------------------------------------------------------------\u001b[0m",
      "\u001b[1;31mIndexError\u001b[0m                                Traceback (most recent call last)",
      "Cell \u001b[1;32mIn[52], line 1\u001b[0m\n\u001b[1;32m----> 1\u001b[0m setup_board_player1(\u001b[38;5;241m5\u001b[39m)\n",
      "Cell \u001b[1;32mIn[50], line 41\u001b[0m, in \u001b[0;36msetup_board_player1\u001b[1;34m(sides)\u001b[0m\n\u001b[0;32m     39\u001b[0m         temp_first_digit \u001b[38;5;241m=\u001b[39m temp_tail\u001b[38;5;241m/\u001b[39m\u001b[38;5;241m/\u001b[39msides\n\u001b[0;32m     40\u001b[0m         temp_second_digit \u001b[38;5;241m=\u001b[39m temp_tail\u001b[38;5;241m%\u001b[39msides\n\u001b[1;32m---> 41\u001b[0m         initial_list[temp_first_digit][temp_second_digit] \u001b[38;5;241m=\u001b[39m \u001b[38;5;124m'\u001b[39m\u001b[38;5;124mx\u001b[39m\u001b[38;5;124m'\u001b[39m\n\u001b[0;32m     42\u001b[0m \u001b[38;5;28;01melse\u001b[39;00m:\n\u001b[0;32m     43\u001b[0m     \u001b[38;5;28;01mfor\u001b[39;00m tail \u001b[38;5;129;01min\u001b[39;00m \u001b[38;5;28mrange\u001b[39m(\u001b[38;5;241m3\u001b[39m):\n",
      "\u001b[1;31mIndexError\u001b[0m: list index out of range"
     ]
    }
   ],
   "source": [
    "setup_board_player1(5)"
   ]
  },
  {
   "cell_type": "code",
   "execution_count": null,
   "id": "74458eb4-c5bf-4319-998f-697051947a31",
   "metadata": {},
   "outputs": [],
   "source": []
  }
 ],
 "metadata": {
  "kernelspec": {
   "display_name": "Python 3 (ipykernel)",
   "language": "python",
   "name": "python3"
  },
  "language_info": {
   "codemirror_mode": {
    "name": "ipython",
    "version": 3
   },
   "file_extension": ".py",
   "mimetype": "text/x-python",
   "name": "python",
   "nbconvert_exporter": "python",
   "pygments_lexer": "ipython3",
   "version": "3.12.4"
  }
 },
 "nbformat": 4,
 "nbformat_minor": 5
}
