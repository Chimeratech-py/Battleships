{
 "cells": [
  {
   "cell_type": "code",
   "execution_count": 105,
   "id": "49f232b8-8a04-48bd-9a29-6a36c9d24878",
   "metadata": {},
   "outputs": [],
   "source": [
    "#simple_rules\n",
    "#2 ships: 1 3x1 ship and 1 4x1 ship\n",
    "#first to destroy both wins\n",
    "from random import choice\n",
    "\n",
    "def setup_board_player1(width,height):\n",
    "    initial_list = []\n",
    "\n",
    "    #4x1 ship\n",
    "    is_4x1_vertical = bool(random.getrandbits(1))\n",
    "    four_by_1_exceptions = [12,13,14,17,18,19,22,23,24]\n",
    "    four_by_1_starting_int = choice([number for number in range(0,21) if number not in four_by_1_exceptions])\n",
    "\n",
    "    #3x1 ship\n",
    "    three_by_1_exceptions = [18,19,23,24]\n",
    "    three_by_1_starting_int = 0\n",
    "    x = 0\n",
    "    y = 0\n",
    "    for y in range(height):\n",
    "        row = []\n",
    "        for x in range(width):\n",
    "            row.append(0)\n",
    "        initial_list.append(row)\n",
    "\n",
    "    #matching 5x5 grid with its whole number equivalent\n",
    "        \n",
    "\n",
    "    #creating 4x1 ship\n",
    "    if four_by_1_starting_int <= 4:\n",
    "        initial_list[0][four_by_1_starting_int] = 'x'\n",
    "        if is_4x1_vertical == True:\n",
    "            \n",
    "    \n",
    "    \n",
    "    return initial_list\n"
   ]
  },
  {
   "cell_type": "code",
   "execution_count": 107,
   "id": "90682096-a55c-4a32-824d-cb3ad5bc1d75",
   "metadata": {},
   "outputs": [
    {
     "data": {
      "text/plain": [
       "[[0, 0, 0, 0, 0],\n",
       " [0, 0, 0, 0, 0],\n",
       " [0, 0, 0, 0, 0],\n",
       " [0, 0, 0, 0, 0],\n",
       " [0, 0, 0, 0, 0]]"
      ]
     },
     "execution_count": 107,
     "metadata": {},
     "output_type": "execute_result"
    }
   ],
   "source": [
    "setup_board_player1(5,5)"
   ]
  },
  {
   "cell_type": "code",
   "execution_count": 17,
   "id": "0ac15307-aeed-49c1-bb49-884e5495878d",
   "metadata": {},
   "outputs": [],
   "source": [
    "def setup_board_player1(width,height):\n",
    "    initial_list = []\n",
    "    x = 0\n",
    "    y = 0\n",
    "    while y<height:\n",
    "        row = []\n",
    "        while x<width:\n",
    "            row.append(0)\n",
    "            initial_list.append(row)\n",
    "            x+=1\n",
    "        y+=1\n",
    "        \n",
    "\n",
    "    return initial_list"
   ]
  },
  {
   "cell_type": "code",
   "execution_count": 19,
   "id": "2a16d869-c333-4288-a26c-e447a2a05fb5",
   "metadata": {},
   "outputs": [
    {
     "data": {
      "text/plain": [
       "[[0, 0, 0, 0, 0],\n",
       " [0, 0, 0, 0, 0],\n",
       " [0, 0, 0, 0, 0],\n",
       " [0, 0, 0, 0, 0],\n",
       " [0, 0, 0, 0, 0]]"
      ]
     },
     "execution_count": 19,
     "metadata": {},
     "output_type": "execute_result"
    }
   ],
   "source": [
    "setup_board_player2(5,5)"
   ]
  },
  {
   "cell_type": "code",
   "execution_count": 25,
   "id": "ea773e1a-7492-4ef9-9c24-5b1c7d5ef2bf",
   "metadata": {},
   "outputs": [
    {
     "data": {
      "text/plain": [
       "15"
      ]
     },
     "execution_count": 25,
     "metadata": {},
     "output_type": "execute_result"
    }
   ],
   "source": [
    "four_by_1_exceptions = [12,13,14,17,18,19,22,23,24]\n",
    "four_by_1_starting_int = choice([number for number in range(0,21) if number not in four_by_1_exceptions])\n",
    "\n",
    "four_by_1_starting_int"
   ]
  },
  {
   "cell_type": "code",
   "execution_count": 28,
   "id": "c8fcad12-4f8b-4746-8369-5741e2759eb9",
   "metadata": {},
   "outputs": [],
   "source": [
    "#simple_rules\n",
    "#2 ships: 1 3x1 ship and 1 4x1 ship\n",
    "#first to destroy both wins\n",
    "import random\n",
    "\n",
    "def setup_board_player1(sides):\n",
    "    initial_list = []\n",
    "\n",
    "    #4x1 ship\n",
    "    is_4x1_vertical = bool(random.getrandbits(1))\n",
    "    four_by_1_exceptions = [12,13,14,17,18,19,22,23,24]\n",
    "    four_by_1_starting_int = choice([number for number in range(0,21) if number not in four_by_1_exceptions])\n",
    "\n",
    "    #3x1 ship\n",
    "    three_by_1_exceptions = [18,19,23,24]\n",
    "    three_by_1_starting_int = 0\n",
    "    x = 0\n",
    "    y = 0\n",
    "    for y in range(sides):\n",
    "        row = []\n",
    "        for x in range(sides):\n",
    "            row.append(0)\n",
    "        initial_list.append(row)\n",
    "\n",
    "    #matching 5x5 grid with its whole number equivalent\n",
    "    first_digit = four_by_1_starting_int//sides\n",
    "    second_digit = four_by_1_starting_int%sides\n",
    "\n",
    "    \n",
    "    #creating 4x1 ship\n",
    "    if four_by_1_starting_int <= 4:\n",
    "        initial_list[0][four_by_1_starting_int] = 'x'\n",
    "    else:\n",
    "        initial_list[first_digit][second_digit] = 'x'\n",
    "\n",
    "    print(four_by_1_starting_int)\n",
    "\n",
    "    return initial_list\n"
   ]
  },
  {
   "cell_type": "code",
   "execution_count": 30,
   "id": "48f26320-979b-4228-9c87-8aa66ccf72df",
   "metadata": {},
   "outputs": [
    {
     "name": "stdout",
     "output_type": "stream",
     "text": [
      "16\n"
     ]
    },
    {
     "data": {
      "text/plain": [
       "[[0, 0, 0, 0, 0],\n",
       " [0, 0, 0, 0, 0],\n",
       " [0, 0, 0, 0, 0],\n",
       " [0, 'x', 0, 0, 0],\n",
       " [0, 0, 0, 0, 0]]"
      ]
     },
     "execution_count": 30,
     "metadata": {},
     "output_type": "execute_result"
    }
   ],
   "source": [
    "setup_board_player1(5)"
   ]
  },
  {
   "cell_type": "code",
   "execution_count": null,
   "id": "74458eb4-c5bf-4319-998f-697051947a31",
   "metadata": {},
   "outputs": [],
   "source": []
  }
 ],
 "metadata": {
  "kernelspec": {
   "display_name": "Python 3 (ipykernel)",
   "language": "python",
   "name": "python3"
  },
  "language_info": {
   "codemirror_mode": {
    "name": "ipython",
    "version": 3
   },
   "file_extension": ".py",
   "mimetype": "text/x-python",
   "name": "python",
   "nbconvert_exporter": "python",
   "pygments_lexer": "ipython3",
   "version": "3.12.4"
  }
 },
 "nbformat": 4,
 "nbformat_minor": 5
}
