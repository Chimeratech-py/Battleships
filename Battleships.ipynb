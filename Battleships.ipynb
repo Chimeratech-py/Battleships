{
 "cells": [
  {
   "cell_type": "code",
   "execution_count": 13,
   "id": "49f232b8-8a04-48bd-9a29-6a36c9d24878",
   "metadata": {},
   "outputs": [],
   "source": [
    "#simple_rules\n",
    "#2 ships: 1 3x1 ship and 1 4x1 ship\n",
    "#first to destroy both wins\n",
    "\n",
    "def setup_board_player1(width,height):\n",
    "    initial_list = []\n",
    "    x = 0\n",
    "    y = 0\n",
    "    while y<height:\n",
    "        row = []\n",
    "        while x<width:\n",
    "            row.append(0)\n",
    "            initial_list.append(row)\n",
    "            x+=1\n",
    "        y+=1\n",
    "        \n",
    "\n",
    "    return initial_list\n"
   ]
  },
  {
   "cell_type": "code",
   "execution_count": 15,
   "id": "90682096-a55c-4a32-824d-cb3ad5bc1d75",
   "metadata": {},
   "outputs": [
    {
     "data": {
      "text/plain": [
       "[[0, 0, 0, 0, 0],\n",
       " [0, 0, 0, 0, 0],\n",
       " [0, 0, 0, 0, 0],\n",
       " [0, 0, 0, 0, 0],\n",
       " [0, 0, 0, 0, 0]]"
      ]
     },
     "execution_count": 15,
     "metadata": {},
     "output_type": "execute_result"
    }
   ],
   "source": [
    "setup_board_player1(5,5)"
   ]
  },
  {
   "cell_type": "code",
   "execution_count": 17,
   "id": "0ac15307-aeed-49c1-bb49-884e5495878d",
   "metadata": {},
   "outputs": [],
   "source": [
    "def setup_board_player2(width,height):\n",
    "    initial_list = []\n",
    "    x = 0\n",
    "    y = 0\n",
    "    while y<height:\n",
    "        row = []\n",
    "        while x<width:\n",
    "            row.append(0)\n",
    "            initial_list.append(row)\n",
    "            x+=1\n",
    "        y+=1\n",
    "        \n",
    "\n",
    "    return initial_list"
   ]
  },
  {
   "cell_type": "code",
   "execution_count": 19,
   "id": "2a16d869-c333-4288-a26c-e447a2a05fb5",
   "metadata": {},
   "outputs": [
    {
     "data": {
      "text/plain": [
       "[[0, 0, 0, 0, 0],\n",
       " [0, 0, 0, 0, 0],\n",
       " [0, 0, 0, 0, 0],\n",
       " [0, 0, 0, 0, 0],\n",
       " [0, 0, 0, 0, 0]]"
      ]
     },
     "execution_count": 19,
     "metadata": {},
     "output_type": "execute_result"
    }
   ],
   "source": [
    "setup_board_player2(5,5)"
   ]
  },
  {
   "cell_type": "code",
   "execution_count": null,
   "id": "ea773e1a-7492-4ef9-9c24-5b1c7d5ef2bf",
   "metadata": {},
   "outputs": [],
   "source": []
  }
 ],
 "metadata": {
  "kernelspec": {
   "display_name": "Python 3 (ipykernel)",
   "language": "python",
   "name": "python3"
  },
  "language_info": {
   "codemirror_mode": {
    "name": "ipython",
    "version": 3
   },
   "file_extension": ".py",
   "mimetype": "text/x-python",
   "name": "python",
   "nbconvert_exporter": "python",
   "pygments_lexer": "ipython3",
   "version": "3.12.4"
  }
 },
 "nbformat": 4,
 "nbformat_minor": 5
}
