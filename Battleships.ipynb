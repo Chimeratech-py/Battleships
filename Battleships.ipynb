{
 "cells": [
  {
   "cell_type": "code",
   "execution_count": 25,
   "id": "49f232b8-8a04-48bd-9a29-6a36c9d24878",
   "metadata": {},
   "outputs": [],
   "source": [
    "#simple_rules\n",
    "#2 ships: 1 3x1 ship and 1 4x1 ship\n",
    "#first to destroy both wins\n",
    "import random\n",
    "from random import choice\n",
    "\n",
    "def setup_board_player1(sides):\n",
    "    #creating initial empty list to be returned later\n",
    "    initial_list = []\n",
    "\n",
    "    #except slots\n",
    "    three_by_1_exceptions = [18,19,23,24]\n",
    "    four_by_1_exceptions = [12,13,14,17,18,19,22,23,24]\n",
    "    #creating empty board\n",
    "    for y in range(sides):\n",
    "        row = []\n",
    "        for x in range(sides):\n",
    "            row.append(0)\n",
    "        initial_list.append(row)\n",
    "\n",
    "    #creating 4x1 ship\n",
    "    is_4x1_vertical = bool(random.getrandbits(1))\n",
    "    \n",
    "    four_by_1_starting_int = choice([number for number in range(0,21) if number not in four_by_1_exceptions])\n",
    "    \n",
    "    #matching 5x5 grid with its whole number equivalent\n",
    "    first_digit = four_by_1_starting_int//sides\n",
    "    second_digit = four_by_1_starting_int%sides\n",
    "\n",
    "    if four_by_1_starting_int <= 4:\n",
    "        initial_list[0][four_by_1_starting_int] = 'x'\n",
    "    else:\n",
    "        initial_list[first_digit][second_digit] = 'x'\n",
    "    temp_tail = four_by_1_starting_int\n",
    "\n",
    "    #making sure the ship won't go out of bounds\n",
    "    if four_by_1_starting_int > 9:\n",
    "        is_4x1_vertical = False\n",
    "    if second_digit >= 2:\n",
    "        is_4x1_vertical = True\n",
    "        \n",
    "    if is_4x1_vertical == True:\n",
    "        for tail in range(3):\n",
    "            temp_tail += sides\n",
    "            temp_first_digit = temp_tail//sides\n",
    "            temp_second_digit = temp_tail%sides\n",
    "            initial_list[temp_first_digit][temp_second_digit] = 'x'\n",
    "            three_by_1_exceptions.append(temp_tail)\n",
    "    else:\n",
    "        for tail in range(3):\n",
    "            temp_tail += 1\n",
    "            temp_first_digit = temp_tail//sides\n",
    "            temp_second_digit = temp_tail%sides\n",
    "            initial_list[temp_first_digit][temp_second_digit] = 'x'\n",
    "            three_by_1_exceptions.append(temp_tail)\n",
    "\n",
    "    #creating 3x1 ship\n",
    "    three_by_1_starting_int = choice([number for number in range(0,22) if number not in three_by_1_exceptions])\n",
    "    #matching 5x5 grid with its whole number equivalent\n",
    "    three_first_digit = three_by_1_starting_int//sides\n",
    "    three_second_digit = three_by_1_starting_int%sides\n",
    "\n",
    "    if three_by_1_starting_int <= 4:\n",
    "        initial_list[0][three_by_1_starting_int] = 'x'\n",
    "    else:\n",
    "        initial_list[three_first_digit][three_second_digit] = 'x'\n",
    "    \n",
    "    is_good_to_go = False\n",
    "    is_3x1_vertical = bool(random.getrandbits(1))\n",
    "    \n",
    "    three_by_1_exceptions.append(four_by_1_starting_int)\n",
    "    \n",
    "    three_temp_tail = three_by_1_starting_int\n",
    "    \n",
    "    while is_good_to_go == False:\n",
    "        if is_3x1_vertical == True:\n",
    "            three_temp_tail += (sides*2)\n",
    "            three_temp_first_digit = three_temp_tail//sides\n",
    "            three_temp_second_digit = three_temp_tail%sides\n",
    "            if initial_list[three_temp_first_digit][three_temp_second_digit] == 0:\n",
    "                for three_tail in range(2):\n",
    "                    initial_list[three_temp_first_digit][three_temp_second_digit] = 'x'\n",
    "                    three_temp_tail -= sides\n",
    "                    three_temp_first_digit = three_temp_tail//sides\n",
    "                    three_temp_second_digit = three_temp_tail%sides\n",
    "                is_good_to_go = True\n",
    "            else:\n",
    "                is_3x1_vertical = False\n",
    "        else:\n",
    "            three_temp_tail = three_by_1_starting_int\n",
    "            three_temp_tail += 2\n",
    "            three_temp_first_digit = three_temp_tail//sides\n",
    "            three_temp_second_digit = three_temp_tail%sides\n",
    "            if initial_list[three_temp_first_digit][three_temp_second_digit] == 0:\n",
    "                for three_tail in range(2):\n",
    "                    initial_list[three_temp_first_digit][three_temp_second_digit] = 'x'\n",
    "                    three_temp_tail -= 1\n",
    "                    three_temp_first_digit = three_temp_tail//sides\n",
    "                    three_temp_second_digit = three_temp_tail%sides\n",
    "                is_good_to_go = True\n",
    "            else:\n",
    "                is_3x1_vertical = True\n",
    "                \n",
    "                \n",
    "    \n",
    "        \n",
    "    \n",
    "    \n",
    "    \n",
    "    return initial_list\n"
   ]
  },
  {
   "cell_type": "code",
   "execution_count": null,
   "id": "3a3dde7c-7241-4754-b3e0-17c98b65d8a4",
   "metadata": {},
   "outputs": [],
   "source": []
  },
  {
   "cell_type": "code",
   "execution_count": null,
   "id": "235add43-5bf1-4391-b3e4-999705db34ca",
   "metadata": {},
   "outputs": [],
   "source": [
    "    if is_3x1_vertical == True:\n",
    "        for three_tail in range(2):\n",
    "            three_temp_tail += sides\n",
    "            three_temp_first_digit = three_temp_tail//sides\n",
    "            three_temp_second_digit = three_temp_tail%sides\n",
    "            if initial_list[three_temp_first_digit][three_temp_second_digit] == 'x':\n",
    "                is_good_to_go = False\n",
    "                is_3x1_vertical = False\n",
    "            \n",
    "    else:\n",
    "        for three_tail in range(2):\n",
    "            three_temp_tail += 1\n",
    "            three_temp_first_digit = three_temp_tail//sides\n",
    "            three_temp_second_digit = three_temp_tail%sides\n",
    "            if initial_list[three_temp_first_digit][three_temp_second_digit] == 'x':"
   ]
  },
  {
   "cell_type": "code",
   "execution_count": 27,
   "id": "90682096-a55c-4a32-824d-cb3ad5bc1d75",
   "metadata": {},
   "outputs": [
    {
     "data": {
      "text/plain": [
       "[[0, 0, 0, 0, 0],\n",
       " [0, 0, 0, 'x', 0],\n",
       " [0, 'x', 'x', 'x', 0],\n",
       " [0, 0, 0, 'x', 0],\n",
       " [0, 0, 0, 'x', 0]]"
      ]
     },
     "execution_count": 27,
     "metadata": {},
     "output_type": "execute_result"
    }
   ],
   "source": [
    "setup_board_player1(5)"
   ]
  },
  {
   "cell_type": "code",
   "execution_count": 19,
   "id": "0ac15307-aeed-49c1-bb49-884e5495878d",
   "metadata": {},
   "outputs": [],
   "source": [
    "="
   ]
  },
  {
   "cell_type": "code",
   "execution_count": 19,
   "id": "2a16d869-c333-4288-a26c-e447a2a05fb5",
   "metadata": {},
   "outputs": [
    {
     "data": {
      "text/plain": [
       "[[0, 0, 0, 0, 0],\n",
       " [0, 0, 0, 0, 0],\n",
       " [0, 0, 0, 0, 0],\n",
       " [0, 0, 0, 0, 0],\n",
       " [0, 0, 0, 0, 0]]"
      ]
     },
     "execution_count": 19,
     "metadata": {},
     "output_type": "execute_result"
    }
   ],
   "source": [
    "setup_board_player2(5,5)"
   ]
  },
  {
   "cell_type": "code",
   "execution_count": 25,
   "id": "ea773e1a-7492-4ef9-9c24-5b1c7d5ef2bf",
   "metadata": {},
   "outputs": [
    {
     "data": {
      "text/plain": [
       "15"
      ]
     },
     "execution_count": 25,
     "metadata": {},
     "output_type": "execute_result"
    }
   ],
   "source": [
    "four_by_1_exceptions = [12,13,14,17,18,19,22,23,24]\n",
    "four_by_1_starting_int = choice([number for number in range(0,21) if number not in four_by_1_exceptions])\n",
    "\n",
    "four_by_1_starting_int"
   ]
  },
  {
   "cell_type": "code",
   "execution_count": 74,
   "id": "c8fcad12-4f8b-4746-8369-5741e2759eb9",
   "metadata": {},
   "outputs": [],
   "source": []
  },
  {
   "cell_type": "code",
   "execution_count": 76,
   "id": "48f26320-979b-4228-9c87-8aa66ccf72df",
   "metadata": {},
   "outputs": [
    {
     "data": {
      "text/plain": [
       "[[0, 0, 0, 'x', 'x'],\n",
       " ['x', 'x', 0, 0, 0],\n",
       " [0, 0, 0, 0, 0],\n",
       " [0, 0, 0, 0, 0],\n",
       " [0, 0, 0, 0, 0]]"
      ]
     },
     "execution_count": 76,
     "metadata": {},
     "output_type": "execute_result"
    }
   ],
   "source": [
    "setup_board_player1(5)"
   ]
  },
  {
   "cell_type": "code",
   "execution_count": null,
   "id": "74458eb4-c5bf-4319-998f-697051947a31",
   "metadata": {},
   "outputs": [],
   "source": []
  }
 ],
 "metadata": {
  "kernelspec": {
   "display_name": "Python 3 (ipykernel)",
   "language": "python",
   "name": "python3"
  },
  "language_info": {
   "codemirror_mode": {
    "name": "ipython",
    "version": 3
   },
   "file_extension": ".py",
   "mimetype": "text/x-python",
   "name": "python",
   "nbconvert_exporter": "python",
   "pygments_lexer": "ipython3",
   "version": "3.12.4"
  }
 },
 "nbformat": 4,
 "nbformat_minor": 5
}
